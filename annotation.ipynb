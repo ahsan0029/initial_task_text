{
 "cells": [
  {
   "cell_type": "markdown",
   "metadata": {},
   "source": [
    "## Installing the essential modules"
   ]
  },
  {
   "cell_type": "code",
   "execution_count": 2,
   "metadata": {},
   "outputs": [
    {
     "name": "stdout",
     "output_type": "stream",
     "text": [
      "Requirement already satisfied: pandas in c:\\users\\insan\\anaconda3\\lib\\site-packages (1.1.4)\n",
      "Requirement already satisfied: pytz>=2017.2 in c:\\users\\insan\\anaconda3\\lib\\site-packages (from pandas) (2020.4)\n",
      "Requirement already satisfied: python-dateutil>=2.7.3 in c:\\users\\insan\\anaconda3\\lib\\site-packages (from pandas) (2.8.1)\n",
      "Requirement already satisfied: numpy>=1.15.4 in c:\\users\\insan\\anaconda3\\lib\\site-packages (from pandas) (1.19.4)\n",
      "Requirement already satisfied: six>=1.5 in c:\\users\\insan\\anaconda3\\lib\\site-packages (from python-dateutil>=2.7.3->pandas) (1.15.0)\n",
      "Note: you may need to restart the kernel to use updated packages.\n"
     ]
    }
   ],
   "source": [
    "pip install pandas"
   ]
  },
  {
   "cell_type": "code",
   "execution_count": 3,
   "metadata": {},
   "outputs": [
    {
     "name": "stdout",
     "output_type": "stream",
     "text": [
      "Requirement already satisfied: SPARQLWrapper in c:\\users\\insan\\anaconda3\\lib\\site-packages (1.8.5)\n",
      "Requirement already satisfied: rdflib>=4.0 in c:\\users\\insan\\anaconda3\\lib\\site-packages (from SPARQLWrapper) (5.0.0)\n",
      "Requirement already satisfied: six in c:\\users\\insan\\anaconda3\\lib\\site-packages (from rdflib>=4.0->SPARQLWrapper) (1.15.0)\n",
      "Requirement already satisfied: pyparsing in c:\\users\\insan\\anaconda3\\lib\\site-packages (from rdflib>=4.0->SPARQLWrapper) (2.4.7)\n",
      "Requirement already satisfied: isodate in c:\\users\\insan\\anaconda3\\lib\\site-packages (from rdflib>=4.0->SPARQLWrapper) (0.6.0)\n",
      "Requirement already satisfied: six in c:\\users\\insan\\anaconda3\\lib\\site-packages (from rdflib>=4.0->SPARQLWrapper) (1.15.0)\n",
      "Note: you may need to restart the kernel to use updated packages.\n"
     ]
    }
   ],
   "source": [
    "pip install SPARQLWrapper"
   ]
  },
  {
   "cell_type": "code",
   "execution_count": 119,
   "metadata": {},
   "outputs": [
    {
     "name": "stdout",
     "output_type": "stream",
     "text": [
      "Requirement already satisfied: geopandas in c:\\users\\insan\\anaconda3\\lib\\site-packages (0.6.1)\n",
      "Requirement already satisfied: pandas>=0.23.0 in c:\\users\\insan\\anaconda3\\lib\\site-packages (from geopandas) (1.1.4)\n",
      "Requirement already satisfied: pyproj in c:\\users\\insan\\anaconda3\\lib\\site-packages (from geopandas) (1.9.6)\n",
      "Requirement already satisfied: fiona in c:\\users\\insan\\anaconda3\\lib\\site-packages (from geopandas) (1.8.4)\n",
      "Requirement already satisfied: shapely in c:\\users\\insan\\anaconda3\\lib\\site-packages (from geopandas) (1.6.4.post1)\n",
      "Requirement already satisfied: attrs>=17 in c:\\users\\insan\\anaconda3\\lib\\site-packages (from fiona->geopandas) (20.3.0)\n",
      "Requirement already satisfied: click<8,>=4.0 in c:\\users\\insan\\anaconda3\\lib\\site-packages (from fiona->geopandas) (7.1.2)\n",
      "Requirement already satisfied: cligj>=0.5 in c:\\users\\insan\\anaconda3\\lib\\site-packages (from fiona->geopandas) (0.7.1)\n",
      "Requirement already satisfied: click-plugins>=1.0 in c:\\users\\insan\\anaconda3\\lib\\site-packages (from fiona->geopandas) (1.1.1)\n",
      "Requirement already satisfied: six>=1.7 in c:\\users\\insan\\anaconda3\\lib\\site-packages (from fiona->geopandas) (1.15.0)\n",
      "Requirement already satisfied: munch in c:\\users\\insan\\anaconda3\\lib\\site-packages (from fiona->geopandas) (2.5.0)\n",
      "Requirement already satisfied: click<8,>=4.0 in c:\\users\\insan\\anaconda3\\lib\\site-packages (from fiona->geopandas) (7.1.2)\n",
      "Requirement already satisfied: click<8,>=4.0 in c:\\users\\insan\\anaconda3\\lib\\site-packages (from fiona->geopandas) (7.1.2)\n",
      "Requirement already satisfied: six>=1.7 in c:\\users\\insan\\anaconda3\\lib\\site-packages (from fiona->geopandas) (1.15.0)\n",
      "Requirement already satisfied: numpy>=1.15.4 in c:\\users\\insan\\anaconda3\\lib\\site-packages (from pandas>=0.23.0->geopandas) (1.19.3)\n",
      "Requirement already satisfied: python-dateutil>=2.7.3 in c:\\users\\insan\\anaconda3\\lib\\site-packages (from pandas>=0.23.0->geopandas) (2.8.1)\n",
      "Requirement already satisfied: pytz>=2017.2 in c:\\users\\insan\\anaconda3\\lib\\site-packages (from pandas>=0.23.0->geopandas) (2020.4)\n",
      "Requirement already satisfied: six>=1.7 in c:\\users\\insan\\anaconda3\\lib\\site-packages (from fiona->geopandas) (1.15.0)\n",
      "Note: you may need to restart the kernel to use updated packages.\n"
     ]
    }
   ],
   "source": [
    "pip install geopandas"
   ]
  },
  {
   "cell_type": "code",
   "execution_count": 12,
   "metadata": {},
   "outputs": [],
   "source": [
    "import pandas as pd\n",
    "import geopandas\n",
    "import csv\n",
    "from SPARQLWrapper import SPARQLWrapper, JSON\n",
    "from string import Template"
   ]
  },
  {
   "cell_type": "markdown",
   "metadata": {},
   "source": [
    "## Dataset of 3275 Tweets form the months September and October 2015 of refugees and migrants crossed the border to Hungary, Austria and Germany. Data collected from https://zenodo.org/record/2536590#.X8t9jWj0lhE "
   ]
  },
  {
   "cell_type": "code",
   "execution_count": 4,
   "metadata": {},
   "outputs": [],
   "source": [
    "#raw json data \n",
    "tweet_data = pd.read_json(r\"C:\\Users\\insan\\OneDrive\\Desktop\\task_initial\\initial_task_text\\Tweet_data\\all_data.json\")"
   ]
  },
  {
   "cell_type": "markdown",
   "metadata": {},
   "source": [
    "# View the  Tweet data\n"
   ]
  },
  {
   "cell_type": "code",
   "execution_count": 5,
   "metadata": {
    "scrolled": true
   },
   "outputs": [
    {
     "name": "stdout",
     "output_type": "stream",
     "text": [
      "                                               Tweet\n",
      "0  WTF, die grüne Grenze zwischen Österreich und ...\n",
      "1  #refugeeswelcome hashtag calls for change: CNN...\n",
      "2  RT @nytimes: Nearly 5000 migrants arrived in A...\n",
      "3  RT @ECentauri: 20,000 MIGRANTS HAVE ENTERED CR...\n",
      "4  Hundreds of migrants leave Budapest station an...\n",
      "5  RT @AfricasaCountry: While you're praising Ger...\n",
      "6  RT @kongoecho: Historic: Germany expects 50.00...\n",
      "7  RT hrw: RT bouckap: Now that #Germany has agre...\n",
      "8  RT @PierreCrom: Border with Serbia in #Roszke ...\n",
      "9  @CunningDessert Gah that's so sad!!! 4 million...\n"
     ]
    }
   ],
   "source": [
    "data_1 = pd.DataFrame([]) #Storing Tweet in DataFrame\n",
    "for key, value in tweet_data.items():\n",
    "    if key == \"text\" :\n",
    "        #select the tweet data from json \n",
    "        data_1 = data_1.append(pd.DataFrame({'Tweet': value}))\n",
    "        \n",
    "#removing http URL from raw tweet         \n",
    "data_1['Tweet'] = data_1['Tweet'].replace(r'http\\S+', '', regex=True)\n",
    "\n",
    "#Displaying top 5 row of the DataFrame\n",
    "print(data_1.head(10))"
   ]
  },
  {
   "cell_type": "markdown",
   "metadata": {},
   "source": [
    "Total row in dataset: 3725"
   ]
  },
  {
   "cell_type": "markdown",
   "metadata": {},
   "source": [
    "# Manual location annotation of 50 tweet"
   ]
  },
  {
   "cell_type": "code",
   "execution_count": 6,
   "metadata": {
    "scrolled": true
   },
   "outputs": [
    {
     "name": "stdout",
     "output_type": "stream",
     "text": [
      "                                                Tweet  \\\n",
      "id                                                      \n",
      "1   WTF, die grüne Grenze zwischen Österreich und ...   \n",
      "2   #refugeeswelcome hashtag calls for change: CNN...   \n",
      "3   RT @nytimes: Nearly 5000 migrants arrived in A...   \n",
      "4   RT @ECentauri: 20,000 MIGRANTS HAVE ENTERED CR...   \n",
      "5   Hundreds of migrants leave Budapest station an...   \n",
      "6   RT @AfricasaCountry: While you're praising Ger...   \n",
      "7   RT @kongoecho: Historic: Germany expects 50.00...   \n",
      "8   RT hrw: RT bouckap: Now that #Germany has agre...   \n",
      "9   RT @PierreCrom: Border with Serbia in #Roszke ...   \n",
      "10  @CunningDessert Gah that's so sad!!! 4 million...   \n",
      "11  RT @BreitbartLondon: The Truth: Leaked Documen...   \n",
      "12  Germany has talked about taking upward of 800,...   \n",
      "13  RT @business: Hundreds of refugees arrive in G...   \n",
      "14  Hundreds of migrants protest at Budapest stati...   \n",
      "15    France announces it will take in 24,000 refu...   \n",
      "16  RT @AUStockMarket: Germany receives over 100 m...   \n",
      "17  Thousands of Migrants Reach Austria: About 2,7...   \n",
      "18  RT @jrosyfield: Inspired by yesterdays success...   \n",
      "19  Having lived in the same flat for 16 years, a ...   \n",
      "20  RT @CourtA: 400 #refugees leave Nickelsdorf on...   \n",
      "21  RT @marcelsardo: Hilfe in der Not:\\nSaudischer...   \n",
      "22  Refugees storm re-opened Hungary train station...   \n",
      "23  RT @bopanc: #MigrantMarch is on road used by H...   \n",
      "24  RT @PatrickGruska: Noch ca 1500 Flüchtlinge am...   \n",
      "25  Germany: 5 Injured in Overnight Fire at Rotten...   \n",
      "26  @LBC @StigAbell Can the 'low cast' millions in...   \n",
      "27  RT @sahabatsuriah: 700 anak 'migrant' tiba di ...   \n",
      "28  RT @ValerioDeC: When in 1956 120,000 Hungarian...   \n",
      "29  RT @DiabolicalIdea: Seven decades ago, Germany...   \n",
      "30  Austrian Red Cross Expects 800 to 1,500 Refuge...   \n",
      "31  Germany says about 30 percent of migrants clai...   \n",
      "32  RT @BBCWorld: Hundreds of migrants arrive at H...   \n",
      "33  RT @Reuters: PHOTOS: Hundreds of migrants set ...   \n",
      "34  RT @bouckap: 2day we will b on Serbia-Hungary ...   \n",
      "35  RT: rt_com :Syrian? 1 in 3 refugees coming to ...   \n",
      "36  @karachikhatmal bayern munich were the first t...   \n",
      "37  RT @DeutscheBank: Public spending on #refugees...   \n",
      "38  RT @intlspectator: Refugees per 1,000 people\\r...   \n",
      "39  RT @guardianworld: Hundreds of refugees march ...   \n",
      "40  RT @OzerKhalid: \"Being in Austria feels like h...   \n",
      "41  RT @chafahi: 18 yr old Afghan man has pushed h...   \n",
      "42  RT @istmo_noticias: #EnElMundo| Más de 10 mil ...   \n",
      "43  RT @HPSiebenhaar: Von Politikern nichts zu seh...   \n",
      "44  RT @Chara_fc: #refugees receive food after the...   \n",
      "45  RT @UNrefugees: Najibah, 7 months pregnant, wa...   \n",
      "46  Germany to Spend $6.6 Billion on 800,000 Musli...   \n",
      "47  RT @thedailybeast: A top German official said ...   \n",
      "48  RT @sakirkhader: #Germany: Fifty barbers have ...   \n",
      "49  #Germany: Fifty barbers have spent their day t...   \n",
      "50  RT @StudentOfAhmad: In Hamburg Germany, around...   \n",
      "\n",
      "                         Location  \n",
      "id                                 \n",
      "1          Österreich,Deutschland  \n",
      "2                         Germany  \n",
      "3                 Austria,Hungary  \n",
      "4                 CROATIA,HUNGARY  \n",
      "5               Budapest,Austrian  \n",
      "6        Germany,Lebanon,Ethiopia  \n",
      "7                         Germany  \n",
      "8                 Germany,Hungary  \n",
      "9           Serbia,Roszke,Hungary  \n",
      "10                        Germany  \n",
      "11                        Austria  \n",
      "12                        Germany  \n",
      "13        Germany,Hungary,Austria  \n",
      "14        Germany,Hungary,Austria  \n",
      "15                         France  \n",
      "16                        Germany  \n",
      "17                Austria,Hungary  \n",
      "18                Hungary,Austria  \n",
      "19                            NaN  \n",
      "20     Nickelsdorf,Vienna,Austria  \n",
      "21                            NaN  \n",
      "22               Hungary,Budapest  \n",
      "23              Hungarian,Austria  \n",
      "24        Westbahnhof,Deutschland  \n",
      "25             Germany,Rottenburg  \n",
      "26                  India,Germany  \n",
      "27                 Sweden,Hungary  \n",
      "28               Hungary,Budapest  \n",
      "29                Germany,Austria  \n",
      "30                        Hungary  \n",
      "31                        Germany  \n",
      "32  Hungary,Austria,Szentgotthard  \n",
      "33               Budapest,Austria  \n",
      "34                 Serbia,Hungary  \n",
      "35                 Syrian,Germany  \n",
      "36                         Munich  \n",
      "37                        Germany  \n",
      "38                            NaN  \n",
      "39               Budapest,Austria  \n",
      "40                        Austria  \n",
      "41             Afganistan,Hungary  \n",
      "42                Hungary,Austria  \n",
      "43                         Wiener  \n",
      "44                 Vienna,Austria  \n",
      "45                        Hungary  \n",
      "46                       Germany,  \n",
      "47                        Austria  \n",
      "48                     Österreich  \n",
      "49                Germany,Hamburg  \n",
      "50         Hamburg,Germany,Syrian  \n"
     ]
    }
   ],
   "source": [
    "tweet_location= pd.read_csv(r\"C:\\Users\\insan\\OneDrive\\Desktop\\task_initial\\initial_task_text\\Tweet_data\\raw_tweet.csv\",sep=\";\",index_col=0)\n",
    "print(tweet_location)"
   ]
  },
  {
   "cell_type": "markdown",
   "metadata": {},
   "source": [
    "## Getting coordinates(Lat, Long) from location name using DBpedia SPARQL\n"
   ]
  },
  {
   "cell_type": "code",
   "execution_count": 9,
   "metadata": {
    "scrolled": true
   },
   "outputs": [
    {
     "name": "stdout",
     "output_type": "stream",
     "text": [
      "{'s': {'type': 'uri', 'value': 'http://dbpedia.org/resource/Germany'}, 'lat': {'type': 'typed-literal', 'datatype': 'http://www.w3.org/2001/XMLSchema#float', 'value': '51.0'}, 'long': {'type': 'typed-literal', 'datatype': 'http://www.w3.org/2001/XMLSchema#float', 'value': '9.0'}}\n",
      "{'s': {'type': 'uri', 'value': 'http://dbpedia.org/resource/Austria'}, 'lat': {'type': 'typed-literal', 'datatype': 'http://www.w3.org/2001/XMLSchema#float', 'value': '47.3333'}, 'long': {'type': 'typed-literal', 'datatype': 'http://www.w3.org/2001/XMLSchema#float', 'value': '13.3333'}}\n",
      "{'s': {'type': 'uri', 'value': 'http://dbpedia.org/resource/Hungary'}, 'lat': {'type': 'typed-literal', 'datatype': 'http://www.w3.org/2001/XMLSchema#float', 'value': '47.0'}, 'long': {'type': 'typed-literal', 'datatype': 'http://www.w3.org/2001/XMLSchema#float', 'value': '19.25'}}\n",
      "{'s': {'type': 'uri', 'value': 'http://dbpedia.org/resource/Budapest'}, 'lat': {'type': 'typed-literal', 'datatype': 'http://www.w3.org/2001/XMLSchema#float', 'value': '47.4925'}, 'long': {'type': 'typed-literal', 'datatype': 'http://www.w3.org/2001/XMLSchema#float', 'value': '19.0514'}}\n",
      "{'s': {'type': 'uri', 'value': 'http://dbpedia.org/resource/Germany'}, 'lat': {'type': 'typed-literal', 'datatype': 'http://www.w3.org/2001/XMLSchema#float', 'value': '51.0'}, 'long': {'type': 'typed-literal', 'datatype': 'http://www.w3.org/2001/XMLSchema#float', 'value': '9.0'}}\n",
      "{'s': {'type': 'uri', 'value': 'http://dbpedia.org/resource/Lebanon'}, 'lat': {'type': 'typed-literal', 'datatype': 'http://www.w3.org/2001/XMLSchema#float', 'value': '33.8333'}, 'long': {'type': 'typed-literal', 'datatype': 'http://www.w3.org/2001/XMLSchema#float', 'value': '35.5333'}}\n",
      "{'s': {'type': 'uri', 'value': 'http://dbpedia.org/resource/Ethiopia'}, 'lat': {'type': 'typed-literal', 'datatype': 'http://www.w3.org/2001/XMLSchema#float', 'value': '8.0'}, 'long': {'type': 'typed-literal', 'datatype': 'http://www.w3.org/2001/XMLSchema#float', 'value': '38.0'}}\n",
      "{'s': {'type': 'uri', 'value': 'http://dbpedia.org/resource/Germany'}, 'lat': {'type': 'typed-literal', 'datatype': 'http://www.w3.org/2001/XMLSchema#float', 'value': '51.0'}, 'long': {'type': 'typed-literal', 'datatype': 'http://www.w3.org/2001/XMLSchema#float', 'value': '9.0'}}\n",
      "{'s': {'type': 'uri', 'value': 'http://dbpedia.org/resource/Germany'}, 'lat': {'type': 'typed-literal', 'datatype': 'http://www.w3.org/2001/XMLSchema#float', 'value': '51.0'}, 'long': {'type': 'typed-literal', 'datatype': 'http://www.w3.org/2001/XMLSchema#float', 'value': '9.0'}}\n",
      "{'s': {'type': 'uri', 'value': 'http://dbpedia.org/resource/Hungary'}, 'lat': {'type': 'typed-literal', 'datatype': 'http://www.w3.org/2001/XMLSchema#float', 'value': '47.0'}, 'long': {'type': 'typed-literal', 'datatype': 'http://www.w3.org/2001/XMLSchema#float', 'value': '19.25'}}\n",
      "{'s': {'type': 'uri', 'value': 'http://dbpedia.org/resource/Serbia'}, 'lat': {'type': 'typed-literal', 'datatype': 'http://www.w3.org/2001/XMLSchema#float', 'value': '44.0'}, 'long': {'type': 'typed-literal', 'datatype': 'http://www.w3.org/2001/XMLSchema#float', 'value': '20.4667'}}\n",
      "{'s': {'type': 'uri', 'value': 'http://dbpedia.org/resource/Hungary'}, 'lat': {'type': 'typed-literal', 'datatype': 'http://www.w3.org/2001/XMLSchema#float', 'value': '47.0'}, 'long': {'type': 'typed-literal', 'datatype': 'http://www.w3.org/2001/XMLSchema#float', 'value': '19.25'}}\n",
      "{'s': {'type': 'uri', 'value': 'http://dbpedia.org/resource/Germany'}, 'lat': {'type': 'typed-literal', 'datatype': 'http://www.w3.org/2001/XMLSchema#float', 'value': '51.0'}, 'long': {'type': 'typed-literal', 'datatype': 'http://www.w3.org/2001/XMLSchema#float', 'value': '9.0'}}\n",
      "{'s': {'type': 'uri', 'value': 'http://dbpedia.org/resource/Austria'}, 'lat': {'type': 'typed-literal', 'datatype': 'http://www.w3.org/2001/XMLSchema#float', 'value': '47.3333'}, 'long': {'type': 'typed-literal', 'datatype': 'http://www.w3.org/2001/XMLSchema#float', 'value': '13.3333'}}\n",
      "{'s': {'type': 'uri', 'value': 'http://dbpedia.org/resource/Germany'}, 'lat': {'type': 'typed-literal', 'datatype': 'http://www.w3.org/2001/XMLSchema#float', 'value': '51.0'}, 'long': {'type': 'typed-literal', 'datatype': 'http://www.w3.org/2001/XMLSchema#float', 'value': '9.0'}}\n",
      "{'s': {'type': 'uri', 'value': 'http://dbpedia.org/resource/Germany'}, 'lat': {'type': 'typed-literal', 'datatype': 'http://www.w3.org/2001/XMLSchema#float', 'value': '51.0'}, 'long': {'type': 'typed-literal', 'datatype': 'http://www.w3.org/2001/XMLSchema#float', 'value': '9.0'}}\n",
      "{'s': {'type': 'uri', 'value': 'http://dbpedia.org/resource/Hungary'}, 'lat': {'type': 'typed-literal', 'datatype': 'http://www.w3.org/2001/XMLSchema#float', 'value': '47.0'}, 'long': {'type': 'typed-literal', 'datatype': 'http://www.w3.org/2001/XMLSchema#float', 'value': '19.25'}}\n",
      "{'s': {'type': 'uri', 'value': 'http://dbpedia.org/resource/Austria'}, 'lat': {'type': 'typed-literal', 'datatype': 'http://www.w3.org/2001/XMLSchema#float', 'value': '47.3333'}, 'long': {'type': 'typed-literal', 'datatype': 'http://www.w3.org/2001/XMLSchema#float', 'value': '13.3333'}}\n",
      "{'s': {'type': 'uri', 'value': 'http://dbpedia.org/resource/Germany'}, 'lat': {'type': 'typed-literal', 'datatype': 'http://www.w3.org/2001/XMLSchema#float', 'value': '51.0'}, 'long': {'type': 'typed-literal', 'datatype': 'http://www.w3.org/2001/XMLSchema#float', 'value': '9.0'}}\n",
      "{'s': {'type': 'uri', 'value': 'http://dbpedia.org/resource/Hungary'}, 'lat': {'type': 'typed-literal', 'datatype': 'http://www.w3.org/2001/XMLSchema#float', 'value': '47.0'}, 'long': {'type': 'typed-literal', 'datatype': 'http://www.w3.org/2001/XMLSchema#float', 'value': '19.25'}}\n",
      "{'s': {'type': 'uri', 'value': 'http://dbpedia.org/resource/Austria'}, 'lat': {'type': 'typed-literal', 'datatype': 'http://www.w3.org/2001/XMLSchema#float', 'value': '47.3333'}, 'long': {'type': 'typed-literal', 'datatype': 'http://www.w3.org/2001/XMLSchema#float', 'value': '13.3333'}}\n",
      "{'s': {'type': 'uri', 'value': 'http://dbpedia.org/resource/France'}, 'lat': {'type': 'typed-literal', 'datatype': 'http://www.w3.org/2001/XMLSchema#float', 'value': '47.0'}, 'long': {'type': 'typed-literal', 'datatype': 'http://www.w3.org/2001/XMLSchema#float', 'value': '2.0'}}\n",
      "{'s': {'type': 'uri', 'value': 'http://dbpedia.org/resource/Germany'}, 'lat': {'type': 'typed-literal', 'datatype': 'http://www.w3.org/2001/XMLSchema#float', 'value': '51.0'}, 'long': {'type': 'typed-literal', 'datatype': 'http://www.w3.org/2001/XMLSchema#float', 'value': '9.0'}}\n",
      "{'s': {'type': 'uri', 'value': 'http://dbpedia.org/resource/Austria'}, 'lat': {'type': 'typed-literal', 'datatype': 'http://www.w3.org/2001/XMLSchema#float', 'value': '47.3333'}, 'long': {'type': 'typed-literal', 'datatype': 'http://www.w3.org/2001/XMLSchema#float', 'value': '13.3333'}}\n",
      "{'s': {'type': 'uri', 'value': 'http://dbpedia.org/resource/Hungary'}, 'lat': {'type': 'typed-literal', 'datatype': 'http://www.w3.org/2001/XMLSchema#float', 'value': '47.0'}, 'long': {'type': 'typed-literal', 'datatype': 'http://www.w3.org/2001/XMLSchema#float', 'value': '19.25'}}\n",
      "{'s': {'type': 'uri', 'value': 'http://dbpedia.org/resource/Hungary'}, 'lat': {'type': 'typed-literal', 'datatype': 'http://www.w3.org/2001/XMLSchema#float', 'value': '47.0'}, 'long': {'type': 'typed-literal', 'datatype': 'http://www.w3.org/2001/XMLSchema#float', 'value': '19.25'}}\n",
      "{'s': {'type': 'uri', 'value': 'http://dbpedia.org/resource/Austria'}, 'lat': {'type': 'typed-literal', 'datatype': 'http://www.w3.org/2001/XMLSchema#float', 'value': '47.3333'}, 'long': {'type': 'typed-literal', 'datatype': 'http://www.w3.org/2001/XMLSchema#float', 'value': '13.3333'}}\n",
      "{'s': {'type': 'uri', 'value': 'http://dbpedia.org/resource/Nickelsdorf'}, 'lat': {'type': 'typed-literal', 'datatype': 'http://www.w3.org/2001/XMLSchema#float', 'value': '47.9333'}, 'long': {'type': 'typed-literal', 'datatype': 'http://www.w3.org/2001/XMLSchema#float', 'value': '17.0667'}}\n",
      "{'s': {'type': 'uri', 'value': 'http://dbpedia.org/resource/Vienna'}, 'lat': {'type': 'typed-literal', 'datatype': 'http://www.w3.org/2001/XMLSchema#float', 'value': '48.2'}, 'long': {'type': 'typed-literal', 'datatype': 'http://www.w3.org/2001/XMLSchema#float', 'value': '16.3667'}}\n"
     ]
    },
    {
     "name": "stdout",
     "output_type": "stream",
     "text": [
      "{'s': {'type': 'uri', 'value': 'http://dbpedia.org/resource/Austria'}, 'lat': {'type': 'typed-literal', 'datatype': 'http://www.w3.org/2001/XMLSchema#float', 'value': '47.3333'}, 'long': {'type': 'typed-literal', 'datatype': 'http://www.w3.org/2001/XMLSchema#float', 'value': '13.3333'}}\n",
      "{'s': {'type': 'uri', 'value': 'http://dbpedia.org/resource/Germany'}, 'lat': {'type': 'typed-literal', 'datatype': 'http://www.w3.org/2001/XMLSchema#float', 'value': '51.0'}, 'long': {'type': 'typed-literal', 'datatype': 'http://www.w3.org/2001/XMLSchema#float', 'value': '9.0'}}\n",
      "{'s': {'type': 'uri', 'value': 'http://dbpedia.org/resource/Hungary'}, 'lat': {'type': 'typed-literal', 'datatype': 'http://www.w3.org/2001/XMLSchema#float', 'value': '47.0'}, 'long': {'type': 'typed-literal', 'datatype': 'http://www.w3.org/2001/XMLSchema#float', 'value': '19.25'}}\n",
      "{'s': {'type': 'uri', 'value': 'http://dbpedia.org/resource/Budapest'}, 'lat': {'type': 'typed-literal', 'datatype': 'http://www.w3.org/2001/XMLSchema#float', 'value': '47.4925'}, 'long': {'type': 'typed-literal', 'datatype': 'http://www.w3.org/2001/XMLSchema#float', 'value': '19.0514'}}\n",
      "{'s': {'type': 'uri', 'value': 'http://dbpedia.org/resource/Austria'}, 'lat': {'type': 'typed-literal', 'datatype': 'http://www.w3.org/2001/XMLSchema#float', 'value': '47.3333'}, 'long': {'type': 'typed-literal', 'datatype': 'http://www.w3.org/2001/XMLSchema#float', 'value': '13.3333'}}\n",
      "{'s': {'type': 'uri', 'value': 'http://dbpedia.org/resource/Hungary'}, 'lat': {'type': 'typed-literal', 'datatype': 'http://www.w3.org/2001/XMLSchema#float', 'value': '47.0'}, 'long': {'type': 'typed-literal', 'datatype': 'http://www.w3.org/2001/XMLSchema#float', 'value': '19.25'}}\n",
      "{'s': {'type': 'uri', 'value': 'http://dbpedia.org/resource/Hungary'}, 'lat': {'type': 'typed-literal', 'datatype': 'http://www.w3.org/2001/XMLSchema#float', 'value': '47.0'}, 'long': {'type': 'typed-literal', 'datatype': 'http://www.w3.org/2001/XMLSchema#float', 'value': '19.25'}}\n",
      "{'s': {'type': 'uri', 'value': 'http://dbpedia.org/resource/Budapest'}, 'lat': {'type': 'typed-literal', 'datatype': 'http://www.w3.org/2001/XMLSchema#float', 'value': '47.4925'}, 'long': {'type': 'typed-literal', 'datatype': 'http://www.w3.org/2001/XMLSchema#float', 'value': '19.0514'}}\n",
      "{'s': {'type': 'uri', 'value': 'http://dbpedia.org/resource/Germany'}, 'lat': {'type': 'typed-literal', 'datatype': 'http://www.w3.org/2001/XMLSchema#float', 'value': '51.0'}, 'long': {'type': 'typed-literal', 'datatype': 'http://www.w3.org/2001/XMLSchema#float', 'value': '9.0'}}\n",
      "{'s': {'type': 'uri', 'value': 'http://dbpedia.org/resource/Austria'}, 'lat': {'type': 'typed-literal', 'datatype': 'http://www.w3.org/2001/XMLSchema#float', 'value': '47.3333'}, 'long': {'type': 'typed-literal', 'datatype': 'http://www.w3.org/2001/XMLSchema#float', 'value': '13.3333'}}\n",
      "{'s': {'type': 'uri', 'value': 'http://dbpedia.org/resource/Hungary'}, 'lat': {'type': 'typed-literal', 'datatype': 'http://www.w3.org/2001/XMLSchema#float', 'value': '47.0'}, 'long': {'type': 'typed-literal', 'datatype': 'http://www.w3.org/2001/XMLSchema#float', 'value': '19.25'}}\n",
      "{'s': {'type': 'uri', 'value': 'http://dbpedia.org/resource/Germany'}, 'lat': {'type': 'typed-literal', 'datatype': 'http://www.w3.org/2001/XMLSchema#float', 'value': '51.0'}, 'long': {'type': 'typed-literal', 'datatype': 'http://www.w3.org/2001/XMLSchema#float', 'value': '9.0'}}\n",
      "{'s': {'type': 'uri', 'value': 'http://dbpedia.org/resource/Hungary'}, 'lat': {'type': 'typed-literal', 'datatype': 'http://www.w3.org/2001/XMLSchema#float', 'value': '47.0'}, 'long': {'type': 'typed-literal', 'datatype': 'http://www.w3.org/2001/XMLSchema#float', 'value': '19.25'}}\n",
      "{'s': {'type': 'uri', 'value': 'http://dbpedia.org/resource/Austria'}, 'lat': {'type': 'typed-literal', 'datatype': 'http://www.w3.org/2001/XMLSchema#float', 'value': '47.3333'}, 'long': {'type': 'typed-literal', 'datatype': 'http://www.w3.org/2001/XMLSchema#float', 'value': '13.3333'}}\n",
      "{'s': {'type': 'uri', 'value': 'http://dbpedia.org/resource/Budapest'}, 'lat': {'type': 'typed-literal', 'datatype': 'http://www.w3.org/2001/XMLSchema#float', 'value': '47.4925'}, 'long': {'type': 'typed-literal', 'datatype': 'http://www.w3.org/2001/XMLSchema#float', 'value': '19.0514'}}\n",
      "{'s': {'type': 'uri', 'value': 'http://dbpedia.org/resource/Austria'}, 'lat': {'type': 'typed-literal', 'datatype': 'http://www.w3.org/2001/XMLSchema#float', 'value': '47.3333'}, 'long': {'type': 'typed-literal', 'datatype': 'http://www.w3.org/2001/XMLSchema#float', 'value': '13.3333'}}\n",
      "{'s': {'type': 'uri', 'value': 'http://dbpedia.org/resource/Serbia'}, 'lat': {'type': 'typed-literal', 'datatype': 'http://www.w3.org/2001/XMLSchema#float', 'value': '44.0'}, 'long': {'type': 'typed-literal', 'datatype': 'http://www.w3.org/2001/XMLSchema#float', 'value': '20.4667'}}\n",
      "{'s': {'type': 'uri', 'value': 'http://dbpedia.org/resource/Hungary'}, 'lat': {'type': 'typed-literal', 'datatype': 'http://www.w3.org/2001/XMLSchema#float', 'value': '47.0'}, 'long': {'type': 'typed-literal', 'datatype': 'http://www.w3.org/2001/XMLSchema#float', 'value': '19.25'}}\n",
      "{'s': {'type': 'uri', 'value': 'http://dbpedia.org/resource/Germany'}, 'lat': {'type': 'typed-literal', 'datatype': 'http://www.w3.org/2001/XMLSchema#float', 'value': '51.0'}, 'long': {'type': 'typed-literal', 'datatype': 'http://www.w3.org/2001/XMLSchema#float', 'value': '9.0'}}\n",
      "{'s': {'type': 'uri', 'value': 'http://dbpedia.org/resource/Munich'}, 'lat': {'type': 'typed-literal', 'datatype': 'http://www.w3.org/2001/XMLSchema#float', 'value': '48.1333'}, 'long': {'type': 'typed-literal', 'datatype': 'http://www.w3.org/2001/XMLSchema#float', 'value': '11.5667'}}\n",
      "{'s': {'type': 'uri', 'value': 'http://dbpedia.org/resource/Germany'}, 'lat': {'type': 'typed-literal', 'datatype': 'http://www.w3.org/2001/XMLSchema#float', 'value': '51.0'}, 'long': {'type': 'typed-literal', 'datatype': 'http://www.w3.org/2001/XMLSchema#float', 'value': '9.0'}}\n",
      "{'s': {'type': 'uri', 'value': 'http://dbpedia.org/resource/Austria'}, 'lat': {'type': 'typed-literal', 'datatype': 'http://www.w3.org/2001/XMLSchema#float', 'value': '47.3333'}, 'long': {'type': 'typed-literal', 'datatype': 'http://www.w3.org/2001/XMLSchema#float', 'value': '13.3333'}}\n",
      "{'s': {'type': 'uri', 'value': 'http://dbpedia.org/resource/Budapest'}, 'lat': {'type': 'typed-literal', 'datatype': 'http://www.w3.org/2001/XMLSchema#float', 'value': '47.4925'}, 'long': {'type': 'typed-literal', 'datatype': 'http://www.w3.org/2001/XMLSchema#float', 'value': '19.0514'}}\n",
      "{'s': {'type': 'uri', 'value': 'http://dbpedia.org/resource/Austria'}, 'lat': {'type': 'typed-literal', 'datatype': 'http://www.w3.org/2001/XMLSchema#float', 'value': '47.3333'}, 'long': {'type': 'typed-literal', 'datatype': 'http://www.w3.org/2001/XMLSchema#float', 'value': '13.3333'}}\n",
      "{'s': {'type': 'uri', 'value': 'http://dbpedia.org/resource/Austria'}, 'lat': {'type': 'typed-literal', 'datatype': 'http://www.w3.org/2001/XMLSchema#float', 'value': '47.3333'}, 'long': {'type': 'typed-literal', 'datatype': 'http://www.w3.org/2001/XMLSchema#float', 'value': '13.3333'}}\n",
      "{'s': {'type': 'uri', 'value': 'http://dbpedia.org/resource/Hungary'}, 'lat': {'type': 'typed-literal', 'datatype': 'http://www.w3.org/2001/XMLSchema#float', 'value': '47.0'}, 'long': {'type': 'typed-literal', 'datatype': 'http://www.w3.org/2001/XMLSchema#float', 'value': '19.25'}}\n",
      "{'s': {'type': 'uri', 'value': 'http://dbpedia.org/resource/Hungary'}, 'lat': {'type': 'typed-literal', 'datatype': 'http://www.w3.org/2001/XMLSchema#float', 'value': '47.0'}, 'long': {'type': 'typed-literal', 'datatype': 'http://www.w3.org/2001/XMLSchema#float', 'value': '19.25'}}\n",
      "{'s': {'type': 'uri', 'value': 'http://dbpedia.org/resource/Austria'}, 'lat': {'type': 'typed-literal', 'datatype': 'http://www.w3.org/2001/XMLSchema#float', 'value': '47.3333'}, 'long': {'type': 'typed-literal', 'datatype': 'http://www.w3.org/2001/XMLSchema#float', 'value': '13.3333'}}\n",
      "{'s': {'type': 'uri', 'value': 'http://dbpedia.org/resource/Vienna'}, 'lat': {'type': 'typed-literal', 'datatype': 'http://www.w3.org/2001/XMLSchema#float', 'value': '48.2'}, 'long': {'type': 'typed-literal', 'datatype': 'http://www.w3.org/2001/XMLSchema#float', 'value': '16.3667'}}\n",
      "{'s': {'type': 'uri', 'value': 'http://dbpedia.org/resource/Austria'}, 'lat': {'type': 'typed-literal', 'datatype': 'http://www.w3.org/2001/XMLSchema#float', 'value': '47.3333'}, 'long': {'type': 'typed-literal', 'datatype': 'http://www.w3.org/2001/XMLSchema#float', 'value': '13.3333'}}\n"
     ]
    },
    {
     "name": "stdout",
     "output_type": "stream",
     "text": [
      "{'s': {'type': 'uri', 'value': 'http://dbpedia.org/resource/Hungary'}, 'lat': {'type': 'typed-literal', 'datatype': 'http://www.w3.org/2001/XMLSchema#float', 'value': '47.0'}, 'long': {'type': 'typed-literal', 'datatype': 'http://www.w3.org/2001/XMLSchema#float', 'value': '19.25'}}\n",
      "{'s': {'type': 'uri', 'value': 'http://dbpedia.org/resource/Germany'}, 'lat': {'type': 'typed-literal', 'datatype': 'http://www.w3.org/2001/XMLSchema#float', 'value': '51.0'}, 'long': {'type': 'typed-literal', 'datatype': 'http://www.w3.org/2001/XMLSchema#float', 'value': '9.0'}}\n",
      "{'s': {'type': 'uri', 'value': 'http://dbpedia.org/resource/Austria'}, 'lat': {'type': 'typed-literal', 'datatype': 'http://www.w3.org/2001/XMLSchema#float', 'value': '47.3333'}, 'long': {'type': 'typed-literal', 'datatype': 'http://www.w3.org/2001/XMLSchema#float', 'value': '13.3333'}}\n",
      "{'s': {'type': 'uri', 'value': 'http://dbpedia.org/resource/Germany'}, 'lat': {'type': 'typed-literal', 'datatype': 'http://www.w3.org/2001/XMLSchema#float', 'value': '51.0'}, 'long': {'type': 'typed-literal', 'datatype': 'http://www.w3.org/2001/XMLSchema#float', 'value': '9.0'}}\n",
      "{'s': {'type': 'uri', 'value': 'http://dbpedia.org/resource/Hamburg'}, 'lat': {'type': 'typed-literal', 'datatype': 'http://www.w3.org/2001/XMLSchema#float', 'value': '53.5653'}, 'long': {'type': 'typed-literal', 'datatype': 'http://www.w3.org/2001/XMLSchema#float', 'value': '10.0014'}}\n",
      "{'s': {'type': 'uri', 'value': 'http://dbpedia.org/resource/Hamburg'}, 'lat': {'type': 'typed-literal', 'datatype': 'http://www.w3.org/2001/XMLSchema#float', 'value': '53.5653'}, 'long': {'type': 'typed-literal', 'datatype': 'http://www.w3.org/2001/XMLSchema#float', 'value': '10.0014'}}\n",
      "{'s': {'type': 'uri', 'value': 'http://dbpedia.org/resource/Germany'}, 'lat': {'type': 'typed-literal', 'datatype': 'http://www.w3.org/2001/XMLSchema#float', 'value': '51.0'}, 'long': {'type': 'typed-literal', 'datatype': 'http://www.w3.org/2001/XMLSchema#float', 'value': '9.0'}}\n",
      "    id  Location      Lat     Long\n",
      "0    2   Germany  51.0000   9.0000\n",
      "0    3   Austria  47.3333  13.3333\n",
      "0    3   Hungary  47.0000  19.2500\n",
      "0    5  Budapest  47.4925  19.0514\n",
      "0    6   Germany  51.0000   9.0000\n",
      "..  ..       ...      ...      ...\n",
      "0   45   Austria  47.3333  13.3333\n",
      "0   47   Germany  51.0000   9.0000\n",
      "0   47   Hamburg  53.5653  10.0014\n",
      "0   48   Hamburg  53.5653  10.0014\n",
      "0   48   Germany  51.0000   9.0000\n",
      "\n",
      "[66 rows x 4 columns]\n"
     ]
    }
   ],
   "source": [
    "from SPARQLWrapper import SPARQLWrapper, JSON\n",
    "\n",
    "import pandas as pd\n",
    "\n",
    "df = pd.DataFrame([]) #Storing coordinates in DataFrame\n",
    "list_coordinate=[] \n",
    "\n",
    "#reading tweet with manual location annotataion\n",
    "tweet_location= pd.read_csv(r\"C:\\Users\\insan\\OneDrive\\Desktop\\task_initial\\initial_task_text\\Tweet_data\\raw_tweet.csv\",sep=\";\",index_col=0)\n",
    "\n",
    "for index, row in tweet_location.iterrows():\n",
    "\n",
    "    #print(row['Location'])\n",
    "    a=list(row['Location'].split(\",\"))\n",
    "    length=len(a)\n",
    "    for i in a:                          #iterating depends on number of location in rows\n",
    "        #print(i)\n",
    "        #location=row['Location']\n",
    "        location=i\n",
    "        sparql = SPARQLWrapper(\"http://dbpedia.org/sparql\")\n",
    "        query = Template(\"\"\"\n",
    "            PREFIX geo: <http://www.w3.org/2003/01/geo/wgs84_pos#>\n",
    "            SELECT DISTINCT ?s ?lat ?long\n",
    "            WHERE { ?s rdfs:label $uri;\n",
    "                    geo:lat ?lat;\n",
    "                    geo:long ?long\n",
    "                    } LIMIT 1\n",
    "        \"\"\")\n",
    "        c=location #row['Location']\n",
    "        b='\"'+c+'\"'+'@en'                 \n",
    "        #print(b)\n",
    "        sparql.setQuery(query.substitute(uri=b))\n",
    "        sparql.setReturnFormat(JSON)\n",
    "        results = sparql.query().convert()\n",
    "       #print(results)\n",
    "        for result in results[\"results\"][\"bindings\"]:\n",
    "            print(result)\n",
    "       \n",
    "    #Displaying lat and long from SPARQL\n",
    "    \n",
    "            #print(result[\"lat\"][\"value\"],result[\"long\"][\"value\"], result[\"s\"][\"value\"])\n",
    "            lat=float(result[\"lat\"][\"value\"])\n",
    "            \n",
    "            long=float(result[\"long\"][\"value\"])\n",
    "            \n",
    "            df = df.append(pd.DataFrame({\"id\":[index],\"Location\":c, \"Lat\": [lat],\"Long\":[long]}))\n",
    "            list_coordinate+=result[\"lat\"][\"value\"],result[\"long\"][\"value\"]\n",
    "\n",
    "\n",
    "#print(list_coordinate)\n",
    "print(df)\n",
    "            \n",
    "\n"
   ]
  },
  {
   "cell_type": "markdown",
   "metadata": {},
   "source": [
    "## Storing coordinates and id which will use to map with location from annotated dataset"
   ]
  },
  {
   "cell_type": "code",
   "execution_count": 10,
   "metadata": {},
   "outputs": [
    {
     "name": "stdout",
     "output_type": "stream",
     "text": [
      "   id  Location      Lat     Long\n",
      "0   2   Germany  51.0000   9.0000\n",
      "0   3   Austria  47.3333  13.3333\n",
      "0   3   Hungary  47.0000  19.2500\n",
      "0   5  Budapest  47.4925  19.0514\n",
      "0   6   Germany  51.0000   9.0000\n"
     ]
    }
   ],
   "source": [
    "print(df.head())"
   ]
  },
  {
   "cell_type": "markdown",
   "metadata": {},
   "source": [
    "## Creating a GeoDataFrame from a DataFrame with coordinates"
   ]
  },
  {
   "cell_type": "code",
   "execution_count": 13,
   "metadata": {},
   "outputs": [],
   "source": [
    "gdf= geopandas.GeoDataFrame(df,geometry=geopandas.points_from_xy(df.Lat, df.Long))"
   ]
  },
  {
   "cell_type": "code",
   "execution_count": 15,
   "metadata": {
    "scrolled": false
   },
   "outputs": [
    {
     "data": {
      "text/html": [
       "<div>\n",
       "<style scoped>\n",
       "    .dataframe tbody tr th:only-of-type {\n",
       "        vertical-align: middle;\n",
       "    }\n",
       "\n",
       "    .dataframe tbody tr th {\n",
       "        vertical-align: top;\n",
       "    }\n",
       "\n",
       "    .dataframe thead th {\n",
       "        text-align: right;\n",
       "    }\n",
       "</style>\n",
       "<table border=\"1\" class=\"dataframe\">\n",
       "  <thead>\n",
       "    <tr style=\"text-align: right;\">\n",
       "      <th></th>\n",
       "      <th>id</th>\n",
       "      <th>Location</th>\n",
       "      <th>Lat</th>\n",
       "      <th>Long</th>\n",
       "      <th>geometry</th>\n",
       "    </tr>\n",
       "  </thead>\n",
       "  <tbody>\n",
       "    <tr>\n",
       "      <th>0</th>\n",
       "      <td>2</td>\n",
       "      <td>Germany</td>\n",
       "      <td>51.0000</td>\n",
       "      <td>9.0000</td>\n",
       "      <td>POINT (51.00000 9.00000)</td>\n",
       "    </tr>\n",
       "    <tr>\n",
       "      <th>0</th>\n",
       "      <td>3</td>\n",
       "      <td>Austria</td>\n",
       "      <td>47.3333</td>\n",
       "      <td>13.3333</td>\n",
       "      <td>POINT (47.33330 13.33330)</td>\n",
       "    </tr>\n",
       "    <tr>\n",
       "      <th>0</th>\n",
       "      <td>3</td>\n",
       "      <td>Hungary</td>\n",
       "      <td>47.0000</td>\n",
       "      <td>19.2500</td>\n",
       "      <td>POINT (47.00000 19.25000)</td>\n",
       "    </tr>\n",
       "    <tr>\n",
       "      <th>0</th>\n",
       "      <td>5</td>\n",
       "      <td>Budapest</td>\n",
       "      <td>47.4925</td>\n",
       "      <td>19.0514</td>\n",
       "      <td>POINT (47.49250 19.05140)</td>\n",
       "    </tr>\n",
       "    <tr>\n",
       "      <th>0</th>\n",
       "      <td>6</td>\n",
       "      <td>Germany</td>\n",
       "      <td>51.0000</td>\n",
       "      <td>9.0000</td>\n",
       "      <td>POINT (51.00000 9.00000)</td>\n",
       "    </tr>\n",
       "    <tr>\n",
       "      <th>...</th>\n",
       "      <td>...</td>\n",
       "      <td>...</td>\n",
       "      <td>...</td>\n",
       "      <td>...</td>\n",
       "      <td>...</td>\n",
       "    </tr>\n",
       "    <tr>\n",
       "      <th>0</th>\n",
       "      <td>45</td>\n",
       "      <td>Austria</td>\n",
       "      <td>47.3333</td>\n",
       "      <td>13.3333</td>\n",
       "      <td>POINT (47.33330 13.33330)</td>\n",
       "    </tr>\n",
       "    <tr>\n",
       "      <th>0</th>\n",
       "      <td>47</td>\n",
       "      <td>Germany</td>\n",
       "      <td>51.0000</td>\n",
       "      <td>9.0000</td>\n",
       "      <td>POINT (51.00000 9.00000)</td>\n",
       "    </tr>\n",
       "    <tr>\n",
       "      <th>0</th>\n",
       "      <td>47</td>\n",
       "      <td>Hamburg</td>\n",
       "      <td>53.5653</td>\n",
       "      <td>10.0014</td>\n",
       "      <td>POINT (53.56530 10.00140)</td>\n",
       "    </tr>\n",
       "    <tr>\n",
       "      <th>0</th>\n",
       "      <td>48</td>\n",
       "      <td>Hamburg</td>\n",
       "      <td>53.5653</td>\n",
       "      <td>10.0014</td>\n",
       "      <td>POINT (53.56530 10.00140)</td>\n",
       "    </tr>\n",
       "    <tr>\n",
       "      <th>0</th>\n",
       "      <td>48</td>\n",
       "      <td>Germany</td>\n",
       "      <td>51.0000</td>\n",
       "      <td>9.0000</td>\n",
       "      <td>POINT (51.00000 9.00000)</td>\n",
       "    </tr>\n",
       "  </tbody>\n",
       "</table>\n",
       "<p>66 rows × 5 columns</p>\n",
       "</div>"
      ],
      "text/plain": [
       "    id  Location      Lat     Long                   geometry\n",
       "0    2   Germany  51.0000   9.0000   POINT (51.00000 9.00000)\n",
       "0    3   Austria  47.3333  13.3333  POINT (47.33330 13.33330)\n",
       "0    3   Hungary  47.0000  19.2500  POINT (47.00000 19.25000)\n",
       "0    5  Budapest  47.4925  19.0514  POINT (47.49250 19.05140)\n",
       "0    6   Germany  51.0000   9.0000   POINT (51.00000 9.00000)\n",
       "..  ..       ...      ...      ...                        ...\n",
       "0   45   Austria  47.3333  13.3333  POINT (47.33330 13.33330)\n",
       "0   47   Germany  51.0000   9.0000   POINT (51.00000 9.00000)\n",
       "0   47   Hamburg  53.5653  10.0014  POINT (53.56530 10.00140)\n",
       "0   48   Hamburg  53.5653  10.0014  POINT (53.56530 10.00140)\n",
       "0   48   Germany  51.0000   9.0000   POINT (51.00000 9.00000)\n",
       "\n",
       "[66 rows x 5 columns]"
      ]
     },
     "execution_count": 15,
     "metadata": {},
     "output_type": "execute_result"
    }
   ],
   "source": [
    "gdf[['id','Location','Lat','Long','geometry']]"
   ]
  },
  {
   "cell_type": "code",
   "execution_count": null,
   "metadata": {},
   "outputs": [],
   "source": []
  }
 ],
 "metadata": {
  "kernelspec": {
   "display_name": "Python 3",
   "language": "python",
   "name": "python3"
  },
  "language_info": {
   "codemirror_mode": {
    "name": "ipython",
    "version": 3
   },
   "file_extension": ".py",
   "mimetype": "text/x-python",
   "name": "python",
   "nbconvert_exporter": "python",
   "pygments_lexer": "ipython3",
   "version": "3.8.5"
  }
 },
 "nbformat": 4,
 "nbformat_minor": 4
}
